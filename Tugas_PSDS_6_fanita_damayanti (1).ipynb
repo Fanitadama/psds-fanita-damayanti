{
  "nbformat": 4,
  "nbformat_minor": 0,
  "metadata": {
    "colab": {
      "provenance": []
    },
    "kernelspec": {
      "name": "python3",
      "display_name": "Python 3"
    },
    "language_info": {
      "name": "python"
    }
  },
  "cells": [
    {
      "cell_type": "markdown",
      "source": [
        "# **Function**"
      ],
      "metadata": {
        "id": "HoywpUshAK9f"
      }
    },
    {
      "cell_type": "markdown",
      "source": [
        "Function (fungsi) adalah sebuah blok statement yang hanya akan dijalankna saat ia panggil\n",
        "\n",
        "Fungsi len() untuk mengukur jumlah elemen dalam sebuah list dan fungsi print() untuk menampilkan pesan pada layar konsof merupakan contoh dari bentuk fungsi yang telah disediakan oleh bahsa pemograman Phyton dengan kata lain built-in functions. Selain fungsi yang telah disediakan oleh Phyton, Phyton mengijinkan untuk mendeklarasikan fungsi dalam kode yang dituliskan yang dikenal dengan user defined function.\n",
        "\n",
        "\n",
        "\n",
        "```\n",
        "def nama_fungsi(argument):\n",
        "  statement_1\n",
        "  -\n",
        "  statement_n\n",
        "  return returned_value\n",
        "```\n",
        "\n",
        "\n",
        "*   nama_fungsi adalah untuk fungsi yang anda definisikan, memiliki aturan seperti penamaan variabel.\n",
        "*   argument adalah variabel masukkan ke fungsi, biasa tanpa variabel, satu variabel atau lebih\n",
        "*   statement_1... statement_n adalah algoritma yang telah anda transfer dalam bahsa Phyton yang merupakan inti dari fungsi yang anda definisikan. Seluruh statement adalah menjorok(indent) ke dalam seperti yang pernah anda pelajari pada conditioning dan looping\n",
        "*   return_value adalah variabel output dari fungsi anda, bisa tanpa variabel, satu variabel atau lebih\n",
        "\n",
        "\n",
        "\n",
        "\n",
        "\n",
        "\n"
      ],
      "metadata": {
        "id": "g5NkpdmiFPY5"
      }
    },
    {
      "cell_type": "markdown",
      "source": [
        "**Argumen dan Parameter**\n",
        "\n",
        "\n",
        "\n",
        "*   Parameter adalah variabel yang digunakan dalam deklarasi fungsi\n",
        "*   Argumen adalah nilai yang diberikan saat pemanggilan fungsi\n",
        "\n"
      ],
      "metadata": {
        "id": "uXI8gpPMAVNl"
      }
    },
    {
      "cell_type": "code",
      "source": [
        "def print_nama(nama): #'nama' adalah parameter\n",
        "  print(nama)\n",
        "\n",
        "print_nama('Budi') #'Budi' adalah argumen"
      ],
      "metadata": {
        "id": "hyyHa8GqfisU",
        "colab": {
          "base_uri": "https://localhost:8080/"
        },
        "outputId": "4fe8a811-1614-4fa0-ed20-4176407c23f9"
      },
      "execution_count": 1,
      "outputs": [
        {
          "output_type": "stream",
          "name": "stdout",
          "text": [
            "Budi\n"
          ]
        }
      ]
    },
    {
      "cell_type": "markdown",
      "source": [
        "# **Argumen posisi dan kata kunci**"
      ],
      "metadata": {
        "id": "4JD7jt4CGr7X"
      }
    },
    {
      "cell_type": "markdown",
      "source": [
        "Kita bisa menyatakan argumen posisi atau kata kunci. Beberapa manfaat argumen kata kunci dapat berupa:\n",
        "\n",
        "\n",
        "*   Kita dapat menyebut argumen dengan mereka untuk memperjelas apa yang mereka wakili\n",
        "*   Kita dapat mengatur ulang argumen dengan cara membuatnya paling mudah dibaca\n",
        "\n"
      ],
      "metadata": {
        "id": "3S4ILteAGyDn"
      }
    },
    {
      "cell_type": "code",
      "source": [
        "def angka (a, b, c):\n",
        "    print(a, b, c)\n",
        "\n",
        "# argumen posisi\n",
        "# argumen berdasarkan kata kuncinya\n",
        "angka(1, 2, 3,)\n",
        "\n",
        "#argumen berdasarkan kata kuncinya\n",
        "angka(a=1, b=2, c=3)\n",
        "angka(c=3, b=2, a=1)\n",
        "\n",
        "#catatan: jika sudah diberi kata kunci maka urutan tidak menjadi penting\n",
        "\n",
        "#campuran antara argumen posisi dan argumen kata kunci\n",
        "angka(1, b=2, c=3)\n",
        "\n",
        "#ini tidak diijinkan:\n",
        "#foo(1, b=2, c=3) #argumen posisional setelah argumen kunci\n",
        "#foo(1, b=2, c=3) #terdapat dua nilai untuk argumen kunci 'a'"
      ],
      "metadata": {
        "id": "XiKx1joVf12o",
        "colab": {
          "base_uri": "https://localhost:8080/"
        },
        "outputId": "421a177a-c76c-49c4-9029-786a7fcd25c4"
      },
      "execution_count": 2,
      "outputs": [
        {
          "output_type": "stream",
          "name": "stdout",
          "text": [
            "1 2 3\n",
            "1 2 3\n",
            "1 2 3\n",
            "1 2 3\n"
          ]
        }
      ]
    },
    {
      "cell_type": "markdown",
      "source": [
        "# **Argumen Default**"
      ],
      "metadata": {
        "id": "_RbBiHwiIg3s"
      }
    },
    {
      "cell_type": "markdown",
      "source": [
        "Fungsi dapat memiliki argumen default dengan nilai yang telah ditentukan sebelumnya. Argumen ini dapat ditinggalkan dan nilai default kemudian diteruskan ke fungsi, atau argumen dapat dirubah dengan nilai yang berbeda. Perhatikan bahwa argumen default harus ditentukan sebagai **parameter terakhir** dalam suatu fungsi"
      ],
      "metadata": {
        "id": "i6v_gosHIpsu"
      }
    },
    {
      "cell_type": "code",
      "source": [
        "# Argumen default\n",
        "def angka2(a, b, c, d=4):\n",
        "    print(a, b, c, d)\n",
        "\n",
        "angka2(1, 2, 3, 4)\n",
        "angka2(1, b=2, c=3, d=100)\n",
        "\n",
        "#argumen default harus diletakkan terakhir"
      ],
      "metadata": {
        "id": "euCmdqaEgH92",
        "colab": {
          "base_uri": "https://localhost:8080/"
        },
        "outputId": "953d81b4-4fdc-4e54-8abd-67d2b191d711"
      },
      "execution_count": 3,
      "outputs": [
        {
          "output_type": "stream",
          "name": "stdout",
          "text": [
            "1 2 3 4\n",
            "1 2 3 100\n"
          ]
        }
      ]
    },
    {
      "cell_type": "markdown",
      "source": [
        "**PRAKTIK MEMBUAT FUNGSI**"
      ],
      "metadata": {
        "id": "J1hziVv6Jd5k"
      }
    },
    {
      "cell_type": "code",
      "source": [
        "x = 1\n",
        "y = 2\n",
        "x*y"
      ],
      "metadata": {
        "colab": {
          "base_uri": "https://localhost:8080/"
        },
        "id": "hu1U8EqYgYZt",
        "outputId": "bcb7fa21-5c71-40ac-fbf4-353eecebee02"
      },
      "execution_count": 4,
      "outputs": [
        {
          "output_type": "execute_result",
          "data": {
            "text/plain": [
              "2"
            ]
          },
          "metadata": {},
          "execution_count": 4
        }
      ]
    },
    {
      "cell_type": "code",
      "source": [
        "def penjumlahan(x,y): #input\n",
        "  a=x+y               #proses\n",
        "  return a          #output\n",
        "\n",
        "penjumlahan(1,2)      #menggunakan fungsi"
      ],
      "metadata": {
        "id": "ux1sokFwgdzf",
        "colab": {
          "base_uri": "https://localhost:8080/"
        },
        "outputId": "311d9619-5838-42a7-b746-ed869c91258f"
      },
      "execution_count": 5,
      "outputs": [
        {
          "output_type": "execute_result",
          "data": {
            "text/plain": [
              "3"
            ]
          },
          "metadata": {},
          "execution_count": 5
        }
      ]
    },
    {
      "cell_type": "markdown",
      "source": [
        "Penjumlahan yang memungkinkan untuk tiga bilangan"
      ],
      "metadata": {
        "id": "uTg7PAHTKPAl"
      }
    },
    {
      "cell_type": "code",
      "source": [
        "def penjumlahan(x,y,z=None):\n",
        "    if (z==None):\n",
        "        return x+y\n",
        "    else:\n",
        "        return x+y+z\n",
        "print(penjumlahan(1,2))\n",
        "print(penjumlahan(1, 2, 3))"
      ],
      "metadata": {
        "id": "geUzGuS6ggRf",
        "colab": {
          "base_uri": "https://localhost:8080/"
        },
        "outputId": "c66821e5-4486-4a9f-e372-b07c5102b108"
      },
      "execution_count": 6,
      "outputs": [
        {
          "output_type": "stream",
          "name": "stdout",
          "text": [
            "3\n",
            "6\n"
          ]
        }
      ]
    },
    {
      "cell_type": "markdown",
      "source": [
        "menyimpan hasil fungsi dalam variabel"
      ],
      "metadata": {
        "id": "uxHWtSOMKrV7"
      }
    },
    {
      "cell_type": "code",
      "source": [
        "def penjumlahan(x,y):\n",
        "    return x+y\n",
        "\n",
        "a = penjumlahan\n",
        "a(1, 2)"
      ],
      "metadata": {
        "colab": {
          "base_uri": "https://localhost:8080/"
        },
        "id": "-WLA_N9mKx3z",
        "outputId": "6889b5da-1261-49ed-a9de-0e82cd436952"
      },
      "execution_count": 7,
      "outputs": [
        {
          "output_type": "execute_result",
          "data": {
            "text/plain": [
              "3"
            ]
          },
          "metadata": {},
          "execution_count": 7
        }
      ]
    },
    {
      "cell_type": "markdown",
      "source": [
        "# Latihan 1"
      ],
      "metadata": {
        "id": "bgNg2zQSLPAw"
      }
    },
    {
      "cell_type": "markdown",
      "source": [
        "Buatlah Function phytagoras dengan input argumennya panjang tinggi dan alas segitiga untuk menghasilkan output nilai panjang sisi miring"
      ],
      "metadata": {
        "id": "rlYzB0OPOF6C"
      }
    },
    {
      "cell_type": "code",
      "source": [
        "def phytagoras(tinggi,alas):\n",
        "  sisi_miring = ((tinggi*tinggi) + (alas*alas))**(1/2)\n",
        "  return sisi_miring"
      ],
      "metadata": {
        "id": "IQRNcHFqLd7p"
      },
      "execution_count": 8,
      "outputs": []
    },
    {
      "cell_type": "code",
      "source": [
        "phytagoras(6,8)"
      ],
      "metadata": {
        "colab": {
          "base_uri": "https://localhost:8080/"
        },
        "id": "tDWdfm9oOM9z",
        "outputId": "c89ffa14-02f2-4768-9ab2-eada684e49f7"
      },
      "execution_count": 9,
      "outputs": [
        {
          "output_type": "execute_result",
          "data": {
            "text/plain": [
              "10.0"
            ]
          },
          "metadata": {},
          "execution_count": 9
        }
      ]
    },
    {
      "cell_type": "markdown",
      "source": [
        "# **Latihan 2**"
      ],
      "metadata": {
        "id": "RH0r20lbO1Jw"
      }
    },
    {
      "cell_type": "markdown",
      "source": [
        "Buatlah function luas permukaan balok dengan input argumennya panjang, lebar, dan tinggi dari balok untuk menghasilkan output nilai luas permukaan balok tersebut."
      ],
      "metadata": {
        "id": "yam-8SIdO4zz"
      }
    },
    {
      "cell_type": "code",
      "source": [
        "panjang = 8\n",
        "lebar = 5\n",
        "tinggi = 2"
      ],
      "metadata": {
        "id": "CyMOlouUO9oG"
      },
      "execution_count": 10,
      "outputs": []
    },
    {
      "cell_type": "code",
      "source": [
        "def luas_permukaan_balok(panjang, lebar, tinggi):\n",
        "    luas_permukaan = 2 * (panjang * lebar + panjang * tinggi + lebar * tinggi)\n",
        "    return luas_permukaan"
      ],
      "metadata": {
        "id": "PR1sGceiO917"
      },
      "execution_count": 11,
      "outputs": []
    },
    {
      "cell_type": "code",
      "source": [
        "luas_permukaan_balok(8,5,2)"
      ],
      "metadata": {
        "colab": {
          "base_uri": "https://localhost:8080/"
        },
        "id": "zIsGb-0vPMWN",
        "outputId": "a27b9021-5d7e-4650-8b48-b6d610c5d89e"
      },
      "execution_count": 12,
      "outputs": [
        {
          "output_type": "execute_result",
          "data": {
            "text/plain": [
              "132"
            ]
          },
          "metadata": {},
          "execution_count": 12
        }
      ]
    },
    {
      "cell_type": "markdown",
      "source": [
        "# **Lambda**"
      ],
      "metadata": {
        "id": "hqTTATpaPWbI"
      }
    },
    {
      "cell_type": "markdown",
      "source": [
        "Fungsi Lambda adalah fungsi anonim one line yang didefinisikan tanpa nama. Fungsi lambda dapat mengambil sejumlah argument, tetapi hanya dapat memiliki satu expression. Sementara fungsi normal didefinisikan menggunakan kata kunci def, dalam Python fungsi anonim didefinisikan menggunakan kata kunci lambda."
      ],
      "metadata": {
        "id": "-FSyrtwvPkMw"
      }
    },
    {
      "cell_type": "markdown",
      "source": [
        "Fungsi Lambda digunakan ketika fungsi sederhana hanya digunakan sekali atau untuk waktu yang singkat dalam kode kita. Penggunaannya yang paling umum adalah sebagai argumen untuk fungsi tingkat tinggi (fungsi yang menggunakan fungsi lain sebagai argument)."
      ],
      "metadata": {
        "id": "R-HlpMrsPl4L"
      }
    },
    {
      "cell_type": "markdown",
      "source": [
        "Lambda expression di python adalah sebuah ekspressi untuk membuat fungsi."
      ],
      "metadata": {
        "id": "Lttq-_i8PsyW"
      }
    },
    {
      "cell_type": "markdown",
      "source": [
        "Lambda sendiri berasal dari teori kalkulus, yakni Lambda Calculus yang dikenalkan oleh Alonzo Church di tahun 1930."
      ],
      "metadata": {
        "id": "eK3muliCPzNU"
      }
    },
    {
      "cell_type": "markdown",
      "source": [
        "Berkat lambda, kita bisa membuat fungsi tanpa nama atau dikenalkan oleh Anonymous function."
      ],
      "metadata": {
        "id": "M_Nri5J7P4OG"
      }
    },
    {
      "cell_type": "markdown",
      "source": [
        "Lambda bisa memiliki lebih dari satu argumen atau parameter, tapi hanya bisa memiliki satu ekspresi atau isi."
      ],
      "metadata": {
        "id": "LzT2RWqHP75v"
      }
    },
    {
      "cell_type": "code",
      "source": [
        "greeting = lambda name: print(f\"hello, {name}\")"
      ],
      "metadata": {
        "id": "sNUcT18YQLmP"
      },
      "execution_count": 13,
      "outputs": []
    },
    {
      "cell_type": "markdown",
      "source": [
        "Karena fungsi lambda tidak punya nama, jadi kita butuh bariabel untuk menyimpannya."
      ],
      "metadata": {
        "id": "TwKCdxivQPLa"
      }
    },
    {
      "cell_type": "markdown",
      "source": [
        "Nanti saat mau kita panggil, kita tinggal tuliskan saja nama variabelnya seperti ini:"
      ],
      "metadata": {
        "id": "K8M6g9eFQTpn"
      }
    },
    {
      "cell_type": "code",
      "source": [
        "greeting(\"Budi\")\n",
        "greeting(\"Doni\")"
      ],
      "metadata": {
        "colab": {
          "base_uri": "https://localhost:8080/"
        },
        "id": "cKyhgz40QqUE",
        "outputId": "f79ad223-e8b1-4711-9f3f-42391055a803"
      },
      "execution_count": 14,
      "outputs": [
        {
          "output_type": "stream",
          "name": "stdout",
          "text": [
            "hello, Budi\n",
            "hello, Doni\n"
          ]
        }
      ]
    },
    {
      "cell_type": "markdown",
      "source": [
        "Beberapa contoh penggunaannya fungsi Lambda"
      ],
      "metadata": {
        "id": "zC4xt0IhRSXQ"
      }
    },
    {
      "cell_type": "code",
      "source": [
        "#Fungsi Lambda untuk menambahkan angka 10 kepada argument input\n",
        "f = lambda x: x+10\n",
        "val1 = f(5)\n",
        "val2 = f(100)\n",
        "print(val1,val2)"
      ],
      "metadata": {
        "colab": {
          "base_uri": "https://localhost:8080/"
        },
        "id": "k7afc_g9RTnK",
        "outputId": "ac2ae797-7714-4631-b438-6cf2308496b8"
      },
      "execution_count": 15,
      "outputs": [
        {
          "output_type": "stream",
          "name": "stdout",
          "text": [
            "15 110\n"
          ]
        }
      ]
    },
    {
      "cell_type": "code",
      "source": [
        "#Fungsi Lambda untuk mengalihkan dua argumen input dan menampilakn hasilnya\n",
        "f = lambda x,y:x*y\n",
        "val3 = f(2,10)\n",
        "val4 = f(7,5)\n",
        "print(val3,val4)"
      ],
      "metadata": {
        "colab": {
          "base_uri": "https://localhost:8080/"
        },
        "id": "M52m982qRaPO",
        "outputId": "ecad5c83-862b-4669-f6c3-d54816055257"
      },
      "execution_count": 16,
      "outputs": [
        {
          "output_type": "stream",
          "name": "stdout",
          "text": [
            "20 35\n"
          ]
        }
      ]
    },
    {
      "cell_type": "markdown",
      "source": [
        "# **Anonymous Function**"
      ],
      "metadata": {
        "id": "2376G3KBTEL3"
      }
    },
    {
      "cell_type": "markdown",
      "source": [
        "Karena lambda adalah anonymous function, ia akan bebas menggunakan nama apa saja. Dengan kata lain, fungsi lambda bisa disimpan di variabel mana pun. Ini tentunya tidak bisa dilakukan oleh fungsi yang dibuat dengan def. Coba perhatikan ini:"
      ],
      "metadata": {
        "id": "7KpVEX-zTOSA"
      }
    },
    {
      "cell_type": "markdown",
      "source": [
        "\n",
        "\n",
        "```\n",
        "def say_hello(nama):\n",
        "  print(f\"hello{nama}, apa kabar?\")\n",
        "\n",
        "ucapin = saya_hello(nama)\n",
        "```\n",
        "\n"
      ],
      "metadata": {
        "id": "LqBgkF_iT1gm"
      }
    },
    {
      "cell_type": "markdown",
      "source": [
        "Saya mencoba membuat fungsi say_hello() dengan def, kemudian menyimpannya ke dalam variabel ucapin. Tapi malah eror."
      ],
      "metadata": {
        "id": "W9wrxv7zU7_Y"
      }
    },
    {
      "cell_type": "markdown",
      "source": [
        "Ini karena fungsi tersebut bukanlah fungsi anonymous yang boleh diubah-ubah namanya."
      ],
      "metadata": {
        "id": "Xj18GuMXVCF2"
      }
    },
    {
      "cell_type": "markdown",
      "source": [
        "Lalu coba perhatikan di baris terakhir, fungsi lambda greeting() yang sudah disimpan lagi ke variabel yang berbeda, yakni sapa."
      ],
      "metadata": {
        "id": "BlaYvVx4VHbi"
      }
    },
    {
      "cell_type": "code",
      "source": [
        "greeting = lambda name: print(f\"hello, {name}\")\n",
        "sapa = greeting\n",
        "greeting(\"Proxima\")\n",
        "sapa(\"Centauri\")"
      ],
      "metadata": {
        "colab": {
          "base_uri": "https://localhost:8080/"
        },
        "id": "aoUykIdnVTCI",
        "outputId": "5f46d203-e025-46c2-ed99-3bbfa42f3f15"
      },
      "execution_count": 17,
      "outputs": [
        {
          "output_type": "stream",
          "name": "stdout",
          "text": [
            "hello, Proxima\n",
            "hello, Centauri\n"
          ]
        }
      ]
    },
    {
      "cell_type": "markdown",
      "source": [
        "Hasilnya tidak eror, karena ini adalah fungsi anonymous atau lambda"
      ],
      "metadata": {
        "id": "Tx4zPRQCVY8_"
      }
    },
    {
      "cell_type": "markdown",
      "source": [
        "# **Eksekusi Lambda Secara Langsung**"
      ],
      "metadata": {
        "id": "Mdu0FjksVeCq"
      }
    },
    {
      "cell_type": "markdown",
      "source": [
        "Eksekusi lambda secara langsung kelebihan fungsi dibandingkan def adalah bisa kita eksekusi langsung."
      ],
      "metadata": {
        "id": "l9zNDQ-lVn9a"
      }
    },
    {
      "cell_type": "markdown",
      "source": [
        "Contohnya:"
      ],
      "metadata": {
        "id": "hCVGh1XqVpQ0"
      }
    },
    {
      "cell_type": "code",
      "source": [
        "(lambda x,y: x**2 + y**2)(4,6)"
      ],
      "metadata": {
        "colab": {
          "base_uri": "https://localhost:8080/"
        },
        "id": "G8qy9XXkVs0C",
        "outputId": "73eb5032-68d2-44ef-b8dd-e1b4573353ff"
      },
      "execution_count": 18,
      "outputs": [
        {
          "output_type": "execute_result",
          "data": {
            "text/plain": [
              "52"
            ]
          },
          "metadata": {},
          "execution_count": 18
        }
      ]
    },
    {
      "cell_type": "markdown",
      "source": [
        "Tanda kurung ysng mengapit fungsi lambda artinya akan langsung mengeksekusi fungsi tersebut."
      ],
      "metadata": {
        "id": "O553mwk6V0bR"
      }
    },
    {
      "cell_type": "markdown",
      "source": [
        "Lalu kurung berikutnya akan berisi parameter"
      ],
      "metadata": {
        "id": "j6ZxQ0ngV4rs"
      }
    },
    {
      "cell_type": "markdown",
      "source": [
        "Angka 4 dan 6 adalah parameter x dan y yang akan diberikan kepada fungsi lambda."
      ],
      "metadata": {
        "id": "SSM2tXg_V5op"
      }
    },
    {
      "cell_type": "markdown",
      "source": [
        "Maka kita akan langsung mendapatkan hasilnya, yakni 42 + 62 = 52"
      ],
      "metadata": {
        "id": "ssQE3SXaV9q0"
      }
    },
    {
      "cell_type": "markdown",
      "source": [
        "Hasil dari eksekusi ini bisa juga kita simpan ke dalam variabel"
      ],
      "metadata": {
        "id": "8biaN1dxWAo6"
      }
    },
    {
      "cell_type": "code",
      "source": [
        "hasil = (lambda x,y: x**2 + y**2)(4,6)"
      ],
      "metadata": {
        "id": "1KFYblkqWEK5"
      },
      "execution_count": 19,
      "outputs": []
    },
    {
      "cell_type": "markdown",
      "source": [
        "# **Mengapa Harus Pakai Lambda**"
      ],
      "metadata": {
        "id": "roySt1jjWKv4"
      }
    },
    {
      "cell_type": "markdown",
      "source": [
        "Kita memang tidak harus selalu menggunakan Lambda, tapi dalam kasus tertentu lambda lebih baik dibandingkan fungs biasa."
      ],
      "metadata": {
        "id": "EUCLrxr5WNmv"
      }
    },
    {
      "cell_type": "markdown",
      "source": [
        "Lambda biasanya dibutuhkan saat ingin membuat fungsi dalam satu baris."
      ],
      "metadata": {
        "id": "jBPjDKkGWRGn"
      }
    },
    {
      "cell_type": "markdown",
      "source": [
        "Biasanya saat menggunakan fungsi-fungsi seperti filter(), map(), dan reduce() kita akan membuatuhkan lambda."
      ],
      "metadata": {
        "id": "rytqo8QeWTxN"
      }
    },
    {
      "cell_type": "markdown",
      "source": [
        "Mengapa ?"
      ],
      "metadata": {
        "id": "YigRlTzNWXxE"
      }
    },
    {
      "cell_type": "markdown",
      "source": [
        "Karena di fungsi-fungsi tersebut membutuhkan parameter fungsi."
      ],
      "metadata": {
        "id": "XyiBnuT6WalV"
      }
    },
    {
      "cell_type": "markdown",
      "source": [
        "Contoh:"
      ],
      "metadata": {
        "id": "iSUQGoYhWdx8"
      }
    },
    {
      "cell_type": "code",
      "source": [
        "bilangan = [10,2,8,7,5,4,3,11,0,1]\n",
        "filtered_result = map (lambda x: x*x, bilangan)\n",
        "print(list(filtered_result))"
      ],
      "metadata": {
        "colab": {
          "base_uri": "https://localhost:8080/"
        },
        "id": "97NdeC3KWg7Q",
        "outputId": "3e8e36b0-244a-445b-bbb5-1eb53bb8276a"
      },
      "execution_count": 20,
      "outputs": [
        {
          "output_type": "stream",
          "name": "stdout",
          "text": [
            "[100, 4, 64, 49, 25, 16, 9, 121, 0, 1]\n"
          ]
        }
      ]
    },
    {
      "cell_type": "markdown",
      "source": [
        "Pada fungsi map() kita memberikan parameter dengan fungsi lambda."
      ],
      "metadata": {
        "id": "dZF2V3mHWn4R"
      }
    },
    {
      "cell_type": "markdown",
      "source": [],
      "metadata": {
        "id": "eaXeLS2lWwX6"
      }
    },
    {
      "cell_type": "markdown",
      "source": [
        "Mengapa bisa begitu ?\n",
        "\n",
        "Karena Lambda bisa disimpan ke dalam variabel, otomatis dia akan bisa juga jadi parameter.\n",
        "\n",
        "Satu lagi contoh dengan fungsi filter()"
      ],
      "metadata": {
        "id": "pmwUK5CSWwgj"
      }
    },
    {
      "cell_type": "code",
      "source": [
        "#Menentukan bilangan genap\n",
        "genap = lambda x: x%2 == 0\n",
        "list(filter(genap, range(11)))"
      ],
      "metadata": {
        "colab": {
          "base_uri": "https://localhost:8080/"
        },
        "id": "LsrtD7lVW1R_",
        "outputId": "72ecd705-82ed-4d25-fef7-7fd3f0081e11"
      },
      "execution_count": 21,
      "outputs": [
        {
          "output_type": "execute_result",
          "data": {
            "text/plain": [
              "[0, 2, 4, 6, 8, 10]"
            ]
          },
          "metadata": {},
          "execution_count": 21
        }
      ]
    },
    {
      "cell_type": "markdown",
      "source": [
        "# **Tugas PSDS 11**"
      ],
      "metadata": {
        "id": "hrwK5a2FW4IA"
      }
    },
    {
      "cell_type": "markdown",
      "source": [
        "Buatlah fungsi lambda untuk menghitung luas dari persegi panjang"
      ],
      "metadata": {
        "id": "8LpmeuKZW-Oj"
      }
    },
    {
      "cell_type": "code",
      "source": [
        "luas_pp = (lambda panjang,lebar: panjang*lebar)(10,5)\n",
        "luas_pp"
      ],
      "metadata": {
        "colab": {
          "base_uri": "https://localhost:8080/"
        },
        "id": "T3yXa6wwXCBe",
        "outputId": "3cc0be8b-36fb-44a6-a202-1066dc8771f7"
      },
      "execution_count": 22,
      "outputs": [
        {
          "output_type": "execute_result",
          "data": {
            "text/plain": [
              "50"
            ]
          },
          "metadata": {},
          "execution_count": 22
        }
      ]
    },
    {
      "cell_type": "markdown",
      "source": [
        "Buatlah fungsi lambda untuk menghitung luas dari segitiga"
      ],
      "metadata": {
        "id": "L7a-R3ddXMW1"
      }
    },
    {
      "cell_type": "code",
      "source": [
        "luas_segitiga = (lambda alas,tinggi: 0.5*alas*tinggi)(10,15)\n",
        "luas_segitiga"
      ],
      "metadata": {
        "colab": {
          "base_uri": "https://localhost:8080/"
        },
        "id": "7lpJpIa1XFvw",
        "outputId": "3e45cd4d-7875-46e5-b909-e4c00eb6a352"
      },
      "execution_count": 23,
      "outputs": [
        {
          "output_type": "execute_result",
          "data": {
            "text/plain": [
              "75.0"
            ]
          },
          "metadata": {},
          "execution_count": 23
        }
      ]
    },
    {
      "cell_type": "code",
      "source": [],
      "metadata": {
        "id": "lWfcFMPUV1gN"
      },
      "execution_count": 23,
      "outputs": []
    },
    {
      "cell_type": "code",
      "source": [],
      "metadata": {
        "id": "pt_XqE1bVs7F"
      },
      "execution_count": 23,
      "outputs": []
    },
    {
      "cell_type": "markdown",
      "source": [
        "**LATIHAN 1**"
      ],
      "metadata": {
        "id": "pHkVhl8EjC2d"
      }
    },
    {
      "cell_type": "markdown",
      "source": [
        "Buatlah Function Phytagoras dengan input argumennya panjang tinggi dan alas segitiga untuk menghasilkan output nilai panjang sisi miring"
      ],
      "metadata": {
        "id": "E9YssyJajLpo"
      }
    },
    {
      "cell_type": "code",
      "source": [
        "def  phytagoras(tinggi,alas):\n",
        "  sisi_miring = ((tinggi*tinggi) + (alas*alas))**(1/2)\n",
        "  return sisi_miring"
      ],
      "metadata": {
        "id": "xLttC9IRmAbY"
      },
      "execution_count": 24,
      "outputs": []
    },
    {
      "cell_type": "code",
      "source": [
        "phytagoras(6,8)"
      ],
      "metadata": {
        "colab": {
          "base_uri": "https://localhost:8080/"
        },
        "id": "OS3_Gp-KnU0a",
        "outputId": "85051bfd-edb9-4480-f73b-8c27daab94f3"
      },
      "execution_count": 25,
      "outputs": [
        {
          "output_type": "execute_result",
          "data": {
            "text/plain": [
              "10.0"
            ]
          },
          "metadata": {},
          "execution_count": 25
        }
      ]
    },
    {
      "cell_type": "markdown",
      "source": [
        "**LATIHAN 2**"
      ],
      "metadata": {
        "id": "jHCa2L9LkjXR"
      }
    },
    {
      "cell_type": "markdown",
      "source": [
        "Buatlah Function luas permukaan balok dengan input argumennya panjang, lebar, dan tinggi dari balok untuk menghasilkan output nilai luas permukaan balok tersebut"
      ],
      "metadata": {
        "id": "UucKw0Vbknf5"
      }
    },
    {
      "cell_type": "code",
      "source": [
        "panjang = 5\n",
        "lebar = 3\n",
        "tinggi = 2"
      ],
      "metadata": {
        "id": "pOFV-kark66J"
      },
      "execution_count": 26,
      "outputs": []
    },
    {
      "cell_type": "code",
      "source": [
        "def luas_permukaan_balok(panjang, lebar, tinggi):\n",
        "  luas_permukaan_balok = (2*panjang*lebar+2*panjang*tinggi+2*lebar*tinggi)"
      ],
      "metadata": {
        "id": "KhUGO0KflBN9"
      },
      "execution_count": 27,
      "outputs": []
    },
    {
      "cell_type": "code",
      "source": [],
      "metadata": {
        "id": "E4PNk3JwivnQ"
      },
      "execution_count": 27,
      "outputs": []
    },
    {
      "cell_type": "code",
      "source": [],
      "metadata": {
        "id": "cOR2W3LVivsw"
      },
      "execution_count": 27,
      "outputs": []
    },
    {
      "cell_type": "code",
      "source": [],
      "metadata": {
        "id": "39_8zEqPiv0J"
      },
      "execution_count": 27,
      "outputs": []
    },
    {
      "cell_type": "code",
      "source": [],
      "metadata": {
        "id": "f4C2dUE8h6LH"
      },
      "execution_count": 27,
      "outputs": []
    }
  ]
}